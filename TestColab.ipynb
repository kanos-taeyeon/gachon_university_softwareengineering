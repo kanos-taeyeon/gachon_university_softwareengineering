{
  "nbformat": 4,
  "nbformat_minor": 0,
  "metadata": {
    "colab": {
      "name": "Untitled22.ipynb",
      "provenance": [],
      "collapsed_sections": []
    },
    "kernelspec": {
      "name": "python3",
      "display_name": "Python 3"
    },
    "language_info": {
      "name": "python"
    },
    "accelerator": "GPU"
  },
  "cells": [
    {
      "cell_type": "markdown",
      "metadata": {
        "id": "q6dVMhaOdDUt"
      },
      "source": [
        "1. Check if CUDA is installed successfully."
      ]
    },
    {
      "cell_type": "code",
      "metadata": {
        "colab": {
          "base_uri": "https://localhost:8080/"
        },
        "id": "rOnDBm-ca_U2",
        "outputId": "a77dc1a8-8fb1-4f43-c99b-1cb8b9863671"
      },
      "source": [
        "!nvcc --version"
      ],
      "execution_count": 3,
      "outputs": [
        {
          "output_type": "stream",
          "text": [
            "nvcc: NVIDIA (R) Cuda compiler driver\n",
            "Copyright (c) 2005-2020 NVIDIA Corporation\n",
            "Built on Wed_Jul_22_19:09:09_PDT_2020\n",
            "Cuda compilation tools, release 11.0, V11.0.221\n",
            "Build cuda_11.0_bu.TC445_37.28845127_0\n"
          ],
          "name": "stdout"
        }
      ]
    },
    {
      "cell_type": "markdown",
      "metadata": {
        "id": "30iFtkzYdJ8r"
      },
      "source": [
        "2. Install a small extension to run nvcc (CUDA compiler) from the Notebook cells."
      ]
    },
    {
      "cell_type": "code",
      "metadata": {
        "colab": {
          "base_uri": "https://localhost:8080/"
        },
        "id": "idwYskEYbnHL",
        "outputId": "969e1a05-6344-423d-e1f9-2eed8e3d3298"
      },
      "source": [
        "pip install git+git://github.com/andreinechaev/nvcc4jupyter.git"
      ],
      "execution_count": 4,
      "outputs": [
        {
          "output_type": "stream",
          "text": [
            "Collecting git+git://github.com/andreinechaev/nvcc4jupyter.git\n",
            "  Cloning git://github.com/andreinechaev/nvcc4jupyter.git to /tmp/pip-req-build-brh4u7f5\n",
            "  Running command git clone -q git://github.com/andreinechaev/nvcc4jupyter.git /tmp/pip-req-build-brh4u7f5\n",
            "Building wheels for collected packages: NVCCPlugin\n",
            "  Building wheel for NVCCPlugin (setup.py) ... \u001b[?25l\u001b[?25hdone\n",
            "  Created wheel for NVCCPlugin: filename=NVCCPlugin-0.0.2-cp37-none-any.whl size=4307 sha256=65bbf7d2eab861cd30d2703276b1ec6998345c2cb3ee536c29862598dc51857a\n",
            "  Stored in directory: /tmp/pip-ephem-wheel-cache-8tytauti/wheels/10/c2/05/ca241da37bff77d60d31a9174f988109c61ba989e4d4650516\n",
            "Successfully built NVCCPlugin\n",
            "Installing collected packages: NVCCPlugin\n",
            "Successfully installed NVCCPlugin-0.0.2\n"
          ],
          "name": "stdout"
        }
      ]
    },
    {
      "cell_type": "markdown",
      "metadata": {
        "id": "2FLBwORQdUcJ"
      },
      "source": [
        "3. Load the extension"
      ]
    },
    {
      "cell_type": "code",
      "metadata": {
        "colab": {
          "base_uri": "https://localhost:8080/"
        },
        "id": "iGI1TDLfbrxG",
        "outputId": "bef73ea3-aa8a-4171-8cf6-fc8cc09a3a28"
      },
      "source": [
        "%load_ext nvcc_plugin"
      ],
      "execution_count": 5,
      "outputs": [
        {
          "output_type": "stream",
          "text": [
            "created output directory at /content/src\n",
            "Out bin /content/result.out\n"
          ],
          "name": "stdout"
        }
      ]
    },
    {
      "cell_type": "markdown",
      "metadata": {
        "id": "-MD7Xi2BdaTU"
      },
      "source": [
        "4. Try a simple C/C++ program."
      ]
    },
    {
      "cell_type": "code",
      "metadata": {
        "colab": {
          "base_uri": "https://localhost:8080/"
        },
        "id": "Fuaen_wfbxQj",
        "outputId": "55e36557-c306-4bdd-cee9-cd32e68ea778"
      },
      "source": [
        "%%cu\n",
        "#include <iostream>\n",
        "int main()\n",
        "{\n",
        "    std::cout << \"Welcome To Colab!\\n\";\n",
        "    return 0;\n",
        "}"
      ],
      "execution_count": 11,
      "outputs": [
        {
          "output_type": "stream",
          "text": [
            "Welcome To Colab!\n",
            "\n"
          ],
          "name": "stdout"
        }
      ]
    },
    {
      "cell_type": "markdown",
      "metadata": {
        "id": "kjbQVdIDdfaz"
      },
      "source": [
        "4. Now try the CUDA code that you are going to develop."
      ]
    },
    {
      "cell_type": "code",
      "metadata": {
        "colab": {
          "base_uri": "https://localhost:8080/"
        },
        "id": "89F3UQ-Bb6KK",
        "outputId": "d031314c-d998-47c5-e751-e578278ec60f"
      },
      "source": [
        "%%cu\n",
        "#include <stdio.h>\n",
        "#include <stdint.h>\n",
        "#include <stdlib.h> \n",
        "\n",
        "#define SIZE 10\n",
        "\n",
        "// Convert and mod\n",
        "__global__ void add_kernel(uint32_t *d_c, uint32_t *d_a, uint32_t *d_b) {   \n",
        "   uint32_t tid = threadIdx.x;\n",
        "\n",
        "   d_c[tid] = d_a[tid] + d_b[tid];\n",
        "}\n",
        "\n",
        "int main(int argc, char* argv[]) {\n",
        "    int i;\n",
        "    uint32_t *h_a, *h_b, *h_c;  // host pointer\n",
        "    uint32_t *d_a, *d_b, *d_c;  // device pointer\n",
        "\n",
        "    cudaMallocHost((void**)&h_a, SIZE * sizeof(uint32_t));   \n",
        "    cudaMallocHost((void**)&h_b, SIZE * sizeof(uint32_t));   \n",
        "    cudaMallocHost((void**)&h_c, SIZE * sizeof(uint32_t));   \n",
        "    cudaMalloc((void**)&d_a, SIZE * sizeof(uint32_t));   \n",
        "    cudaMalloc((void**)&d_b, SIZE * sizeof(uint32_t));   \n",
        "    cudaMalloc((void**)&d_c, SIZE * sizeof(uint32_t));   \n",
        "\n",
        "    for(i=0; i<SIZE; i++) \n",
        "    {\n",
        "      h_a[i] = i; \n",
        "      h_b[i] = i;\n",
        "    }\n",
        "\n",
        "    cudaMemcpy(d_a, h_a, SIZE * sizeof(uint32_t), cudaMemcpyHostToDevice);  \n",
        "    cudaMemcpy(d_b, h_b, SIZE * sizeof(uint32_t), cudaMemcpyHostToDevice);     \n",
        "\n",
        "    add_kernel<<<1, SIZE>>>(d_c, d_a, d_b);\n",
        "    cudaMemcpy(h_c, d_c, SIZE * sizeof(uint32_t), cudaMemcpyDeviceToHost);  \n",
        "\n",
        "    printf(\"Results:\\n\");\n",
        "    for(i=0; i<SIZE; i++) printf(\"%u \", h_c[i]);\n",
        "\n",
        "    cudaFree(h_a);    cudaFree(h_b);        cudaFree(h_c);\n",
        "    cudaFree(d_a);    cudaFree(d_b);        cudaFree(d_c);    \n",
        "    cudaDeviceReset();\n",
        "    return 0;\n",
        "}\n"
      ],
      "execution_count": 14,
      "outputs": [
        {
          "output_type": "stream",
          "text": [
            "Results:\n",
            "0 2 4 6 8 10 12 14 16 18 \n"
          ],
          "name": "stdout"
        }
      ]
    }
  ]
}